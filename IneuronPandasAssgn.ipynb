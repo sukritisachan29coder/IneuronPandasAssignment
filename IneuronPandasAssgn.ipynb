{
 "cells": [
  {
   "cell_type": "markdown",
   "id": "b91fbca0",
   "metadata": {},
   "source": [
    "Q1. How do you load a CSV file into a Pandas DataFrame?"
   ]
  },
  {
   "cell_type": "code",
   "execution_count": 2,
   "id": "4ee5e7bd",
   "metadata": {},
   "outputs": [
    {
     "name": "stdout",
     "output_type": "stream",
     "text": [
      "    Index  Organization Id                     Name  \\\n",
      "0       1  FAB0d41d5b5d22c              Ferrell LLC   \n",
      "1       2  6A7EdDEA9FaDC52  Mckinney, Riley and Day   \n",
      "2       3  0bFED1ADAE4bcC1               Hester Ltd   \n",
      "3       4  2bFC1Be8a4ce42f           Holder-Sellers   \n",
      "4       5  9eE8A6a4Eb96C24              Mayer Group   \n",
      "..    ...              ...                      ...   \n",
      "95     96  0a0bfFbBbB8eC7c             Holmes Group   \n",
      "96     97  BA6Cd9Dae2Efd62                 Good Ltd   \n",
      "97     98  E7df80C60Abd7f9        Clements-Espinoza   \n",
      "98     99  AFc285dbE2fEd24               Mendez Inc   \n",
      "99    100  e9eB5A60Cef8354           Watkins-Kaiser   \n",
      "\n",
      "                           Website                      Country  \\\n",
      "0               https://price.net/             Papua New Guinea   \n",
      "1   http://www.hall-buchanan.info/                      Finland   \n",
      "2        http://sullivan-reed.com/                        China   \n",
      "3              https://becker.com/                 Turkmenistan   \n",
      "4           http://www.brewer.com/                    Mauritius   \n",
      "..                             ...                          ...   \n",
      "95           https://mcdowell.org/                     Ethiopia   \n",
      "96               http://duffy.com/                     Anguilla   \n",
      "97         http://www.flowers.net/  Falkland Islands (Malvinas)   \n",
      "98          https://www.burke.net/              Kyrgyz Republic   \n",
      "99         http://www.herring.com/                         Togo   \n",
      "\n",
      "                                       Description  Founded  \\\n",
      "0              Horizontal empowering knowledgebase     1990   \n",
      "1              User-centric system-worthy leverage     2015   \n",
      "2                   Switchable scalable moratorium     1971   \n",
      "3   De-engineered systemic artificial intelligence     2004   \n",
      "4               Synchronized needs-based challenge     1991   \n",
      "..                                             ...      ...   \n",
      "95          Right-sized zero tolerance focus group     1975   \n",
      "96         Reverse-engineered composite moratorium     1971   \n",
      "97                         Progressive modular hub     1991   \n",
      "98                 User-friendly exuding migration     1993   \n",
      "99                   Synergistic background access     2009   \n",
      "\n",
      "                       Industry  Number of employees  \n",
      "0                      Plastics                 3498  \n",
      "1   Glass / Ceramics / Concrete                 4952  \n",
      "2                 Public Safety                 5287  \n",
      "3                    Automotive                  921  \n",
      "4                Transportation                 7870  \n",
      "..                          ...                  ...  \n",
      "95                  Photography                 2988  \n",
      "96            Consumer Services                 4292  \n",
      "97              Broadcast Media                  236  \n",
      "98         Education Management                  339  \n",
      "99           Financial Services                 2785  \n",
      "\n",
      "[100 rows x 9 columns]\n"
     ]
    }
   ],
   "source": [
    "import pandas as pd\n",
    "df=pd.read_csv(\"organizations-100.csv\")\n",
    "res=pd.DataFrame(df)\n",
    "print(res)"
   ]
  },
  {
   "cell_type": "markdown",
   "id": "911fc7eb",
   "metadata": {},
   "source": [
    "Q2. How do you check the data type of a column in a Pandas DataFrame?"
   ]
  },
  {
   "cell_type": "code",
   "execution_count": 12,
   "id": "f8a4d3b6",
   "metadata": {},
   "outputs": [
    {
     "name": "stdout",
     "output_type": "stream",
     "text": [
      "<class 'pandas.core.series.Series'>\n",
      "<class 'pandas.core.frame.DataFrame'>\n",
      "Index                   int64\n",
      "Organization Id        object\n",
      "Name                   object\n",
      "Website                object\n",
      "Country                object\n",
      "Description            object\n",
      "Founded                 int64\n",
      "Industry               object\n",
      "Number of employees     int64\n",
      "dtype: object\n"
     ]
    }
   ],
   "source": [
    "print(type(df['Index']))\n",
    "print(type(df[['Index','Organization Id']]))\n",
    "print(df.dtypes)"
   ]
  },
  {
   "cell_type": "markdown",
   "id": "ce92921d",
   "metadata": {},
   "source": [
    "Q3. How do you select rows from a Pandas DataFrame based on a condition?"
   ]
  },
  {
   "cell_type": "code",
   "execution_count": 28,
   "id": "a52a8f64",
   "metadata": {},
   "outputs": [
    {
     "name": "stdout",
     "output_type": "stream",
     "text": [
      "    Index  Organization Id            Name                     Website  \\\n",
      "76     77  DDB19Be7eeB56B4  Cummings-Rojas  https://simon-pearson.com/   \n",
      "99    100  e9eB5A60Cef8354  Watkins-Kaiser     http://www.herring.com/   \n",
      "\n",
      "                         Country                            Description  \\\n",
      "76  Svalbard & Jan Mayen Islands  User-centric modular customer loyalty   \n",
      "99                          Togo          Synergistic background access   \n",
      "\n",
      "    Founded            Industry  Number of employees  \n",
      "76     2012  Financial Services                 7529  \n",
      "99     2009  Financial Services                 2785  \n"
     ]
    }
   ],
   "source": [
    "import logging\n",
    "logging.basicConfig(filename=\"testpandas.log\",level=logging.DEBUG,format='%(asctime)s %(levelname)s %(message)s')\n",
    "try:\n",
    "    sel_cond=df.loc[df[\"Industry\"] == \"Financial Services\"]\n",
    "    print(sel_cond)\n",
    "    logging.info(\"Operation successful\")\n",
    "except Exception as e:\n",
    "    print(\"Type error\",e)\n",
    "    logging.error(\"Not successful\")"
   ]
  },
  {
   "cell_type": "code",
   "execution_count": 40,
   "id": "6716f027",
   "metadata": {},
   "outputs": [
    {
     "name": "stdout",
     "output_type": "stream",
     "text": [
      "Index(['Index', 'Organization Id', 'Names', 'Website', 'Country',\n",
      "       'Description', 'Founded', 'Industries', 'Number of employees'],\n",
      "      dtype='object')\n"
     ]
    }
   ],
   "source": [
    "import logging\n",
    "logging.basicConfig(filename=\"testpandas.log\",level=logging.DEBUG,format='%(asctime)s %(levelname)s %(message)s')\n",
    "try:\n",
    "    ren_res=df.rename(columns={\"Industry\":\"Industries\"},inplace=True)\n",
    "    ren_res=df.rename(columns={\"Name\":\"Names\"},inplace=False)\n",
    "    print(df.columns)\n",
    "    logging.info(\"Operation successful\")\n",
    "except Exception as e:\n",
    "    print(\"Error ocurred\",e)\n",
    "    logging.error(\"Some error ocurred, please check code\")\n",
    "    logging.error(e)"
   ]
  },
  {
   "cell_type": "code",
   "execution_count": 48,
   "id": "7c08cd07",
   "metadata": {},
   "outputs": [
    {
     "name": "stdout",
     "output_type": "stream",
     "text": [
      "Index(['Index', 'Organization Id', 'Names', 'Website', 'Description',\n",
      "       'Industries', 'Number of employees'],\n",
      "      dtype='object')\n"
     ]
    }
   ],
   "source": [
    "import logging\n",
    "logging.basicConfig(filename=\"testpandas.log\",level=logging.DEBUG,format='%(asctime)s %(levelname)s %(message)s')\n",
    "try:\n",
    "    df.drop([\"Country\"],axis=1,inplace=True) #Founded was removed in first time,but my mistake re ran that code\n",
    "    print(df.columns)\n",
    "    logging.info(\"Operation successful\")\n",
    "except Exception as e:\n",
    "    print(\"Error ocurred\",e)\n",
    "    logging.error(\"Some error ocurred, please check code\")\n",
    "    logging.error(e)"
   ]
  },
  {
   "cell_type": "markdown",
   "id": "cc80093a",
   "metadata": {},
   "source": [
    "Q6. How do you find the unique values in a column of a Pandas DataFrame?"
   ]
  },
  {
   "cell_type": "code",
   "execution_count": 4,
   "id": "85fd629a",
   "metadata": {},
   "outputs": [
    {
     "name": "stdout",
     "output_type": "stream",
     "text": [
      "<bound method Series.unique of 0                 https://price.net/\n",
      "1     http://www.hall-buchanan.info/\n",
      "2          http://sullivan-reed.com/\n",
      "3                https://becker.com/\n",
      "4             http://www.brewer.com/\n",
      "                   ...              \n",
      "95             https://mcdowell.org/\n",
      "96                 http://duffy.com/\n",
      "97           http://www.flowers.net/\n",
      "98            https://www.burke.net/\n",
      "99           http://www.herring.com/\n",
      "Name: Website, Length: 100, dtype: object>\n"
     ]
    }
   ],
   "source": [
    "import logging\n",
    "import pandas as pd\n",
    "logging.basicConfig(filename=\"testpandas.log\",level=logging.DEBUG,format='%(asctime)s %(levelname)s %(message)s')\n",
    "df=pd.read_csv(\"organizations-100.csv\")\n",
    "try:\n",
    "    uni_res=df.Website.unique\n",
    "    print(uni_res)\n",
    "    logging.info(\"Operation successful\")\n",
    "except Exception as e:\n",
    "    print(\"Error ocurred\",e)\n",
    "    logging.error(\"Some error ocurred, please check code\")\n",
    "    logging.error(e)"
   ]
  },
  {
   "cell_type": "markdown",
   "id": "aef570af",
   "metadata": {},
   "source": [
    "Q8. How do you fill missing values in a Pandas DataFrame with a specific value?"
   ]
  },
  {
   "cell_type": "code",
   "execution_count": 10,
   "id": "b3536fd9",
   "metadata": {},
   "outputs": [
    {
     "name": "stdout",
     "output_type": "stream",
     "text": [
      "None\n",
      "None\n"
     ]
    }
   ],
   "source": [
    "import logging\n",
    "import pandas as pd\n",
    "logging.basicConfig(filename=\"testpandas.log\",level=logging.DEBUG,format='%(asctime)s %(levelname)s %(message)s')\n",
    "df=pd.read_csv(\"organizations-100.csv\")\n",
    "try:\n",
    "    miss_res=df.fillna(method='ffill', inplace=True)\n",
    "    miss_res_back=df.fillna(method='bfill', inplace=True)\n",
    "    print(miss_res)\n",
    "    print(miss_res_back)\n",
    "    logging.info(\"Operation successful\")\n",
    "except Exception as e:\n",
    "    print(\"Error ocurred\",e)\n",
    "    logging.error(\"Some error ocurred, please check code\")\n",
    "    logging.error(e)"
   ]
  },
  {
   "cell_type": "markdown",
   "id": "ed2ac15f",
   "metadata": {},
   "source": [
    "Q9. How do you concatenate two Pandas DataFrames?"
   ]
  },
  {
   "cell_type": "code",
   "execution_count": 22,
   "id": "7a684080",
   "metadata": {},
   "outputs": [
    {
     "name": "stdout",
     "output_type": "stream",
     "text": [
      "   A   B\n",
      "0  1  11\n",
      "1  2  12\n",
      "2  3  13\n",
      "0  1  21\n",
      "1  2  22\n",
      "2  3  23\n"
     ]
    }
   ],
   "source": [
    "import logging\n",
    "import pandas as pd\n",
    "logging.basicConfig(filename=\"testpandas.log\",level=logging.DEBUG,format='%(asctime)s %(levelname)s %(message)s')\n",
    "df1=pd.DataFrame({\"A\":[1,2,3],\"B\":[11,12,13]})\n",
    "df2=pd.DataFrame({\"A\":[1,2,3],\"B\":[21,22,23]})\n",
    "try:\n",
    "    merge_df=pd.concat([df1,df2])\n",
    "    print(merge_df)\n",
    "    \n",
    "    logging.info(\"Operation successful\")\n",
    "except Exception as e:\n",
    "    print(\"Error ocurred\",e)\n",
    "    logging.error(\"Some error ocurred, please check code\")\n",
    "    logging.error(e)"
   ]
  },
  {
   "cell_type": "markdown",
   "id": "273613e4",
   "metadata": {},
   "source": [
    "Q10. How do you merge two Pandas DataFrames on a specific column?"
   ]
  },
  {
   "cell_type": "code",
   "execution_count": 24,
   "id": "3cb5794a",
   "metadata": {},
   "outputs": [
    {
     "name": "stdout",
     "output_type": "stream",
     "text": [
      "   A  B_x  B_y\n",
      "0  1   11   21\n",
      "1  2   12   22\n",
      "2  3   13   23\n"
     ]
    }
   ],
   "source": [
    "import logging\n",
    "import pandas as pd\n",
    "logging.basicConfig(filename=\"testpandas.log\",level=logging.DEBUG,format='%(asctime)s %(levelname)s %(message)s')\n",
    "df1=pd.DataFrame({\"A\":[1,2,3],\"B\":[11,12,13]})\n",
    "df2=pd.DataFrame({\"A\":[1,2,3],\"B\":[21,22,23]})\n",
    "try:\n",
    "    merge_df=pd.merge(df1,df2,on=\"A\")\n",
    "    print(merge_df)\n",
    "    \n",
    "    logging.info(\"Operation successful\")\n",
    "except Exception as e:\n",
    "    print(\"Error ocurred\",e)\n",
    "    logging.error(\"Some error ocurred, please check code\")\n",
    "    logging.error(e)"
   ]
  },
  {
   "cell_type": "markdown",
   "id": "d25578e5",
   "metadata": {},
   "source": [
    "Q11. How do you group data in a Pandas DataFrame by a specific column and apply an aggregation function?"
   ]
  },
  {
   "cell_type": "code",
   "execution_count": 6,
   "id": "30e2c811",
   "metadata": {},
   "outputs": [
    {
     "name": "stdout",
     "output_type": "stream",
     "text": [
      "9995\n",
      "Country\n",
      "Anguilla          4292\n",
      "Australia         4155\n",
      "Bahamas           4914\n",
      "Belarus           3715\n",
      "Belgium           5038\n",
      "                  ... \n",
      "Uruguay           6874\n",
      "Uzbekistan        9698\n",
      "Vietnam           9097\n",
      "Western Sahara    1746\n",
      "Zimbabwe          6135\n",
      "Name: Number of employees, Length: 84, dtype: int64\n"
     ]
    }
   ],
   "source": [
    "import logging\n",
    "import pandas as pd\n",
    "logging.basicConfig(filename=\"testpandas.log\",level=logging.DEBUG,format='%(asctime)s %(levelname)s %(message)s')\n",
    "df=pd.read_csv(\"organizations-100.csv\")\n",
    "try:\n",
    "    max_df=df['Number of employees'].max()\n",
    "    max_grp_df=df.groupby(\"Country\")['Number of employees'].max()\n",
    "    print(max_df)\n",
    "    print(max_grp_df)\n",
    "    logging.info(\"Operation successful\")\n",
    "except Exception as e:\n",
    "    print(\"Error ocurred\",e)\n",
    "    logging.error(\"Some error ocurred, please check code\")\n",
    "    logging.error(e)"
   ]
  },
  {
   "cell_type": "markdown",
   "id": "379054d2",
   "metadata": {},
   "source": [
    "Q12. How do you pivot a Pandas DataFrame?"
   ]
  },
  {
   "cell_type": "code",
   "execution_count": 3,
   "id": "a9f0f3f7",
   "metadata": {},
   "outputs": [
    {
     "name": "stdout",
     "output_type": "stream",
     "text": [
      "   days  eng  maths weekday\n",
      "0     1   11     14     Mon\n",
      "1     2   12     13     tue\n",
      "2     3   13     12     Wed\n",
      "3     4   14     11   Thurs\n"
     ]
    }
   ],
   "source": [
    "  import logging\n",
    "import pandas as pd\n",
    "logging.basicConfig(filename=\"testpandas.log\",level=logging.DEBUG,format='%(asctime)s %(levelname)s %(message)s')\n",
    "var=pd.DataFrame({\"days\":[1,2,3,4],\"eng\":[11,12,13,14],\"maths\":[14,13,12,11],\"weekday\":[\"Mon\",\"tue\",\"Wed\",\"Thurs\"]})\n",
    "try:\n",
    "    var.pivot(index=\"days\",columns=\"weekday\")\n",
    "    print(var)\n",
    "except Exception as e:\n",
    "    print(\"Error ocurred\",e)\n",
    "    logging.error(\"Some error ocurred, please check code\")\n",
    "    logging.error(e)"
   ]
  },
  {
   "cell_type": "markdown",
   "id": "225da462",
   "metadata": {},
   "source": [
    "Q13. How do you change the data type of a column in a Pandas DataFrame?"
   ]
  },
  {
   "cell_type": "code",
   "execution_count": 10,
   "id": "691a989d",
   "metadata": {},
   "outputs": [
    {
     "name": "stdout",
     "output_type": "stream",
     "text": [
      "<class 'pandas.core.frame.DataFrame'>\n",
      "RangeIndex: 4 entries, 0 to 3\n",
      "Data columns (total 4 columns):\n",
      " #   Column   Non-Null Count  Dtype \n",
      "---  ------   --------------  ----- \n",
      " 0   days     4 non-null      int64 \n",
      " 1   eng      4 non-null      object\n",
      " 2   maths    4 non-null      int64 \n",
      " 3   weekday  4 non-null      object\n",
      "dtypes: int64(2), object(2)\n",
      "memory usage: 256.0+ bytes\n",
      "None\n",
      "   days  eng  maths weekday\n",
      "0     1   11     14     Mon\n",
      "1     2   12     13     tue\n",
      "2     3   13     12     Wed\n",
      "3     4   14     11   Thurs\n",
      "   days  eng  maths weekday\n",
      "3     4   14     11   Thurs\n",
      "2     3   13     12     Wed\n",
      "1     2   12     13     tue\n",
      "0     1   11     14     Mon\n"
     ]
    }
   ],
   "source": [
    "  import logging\n",
    "import pandas as pd\n",
    "logging.basicConfig(filename=\"testpandas.log\",level=logging.DEBUG,format='%(asctime)s %(levelname)s %(message)s')\n",
    "var=pd.DataFrame({\"days\":[1,2,3,4],\"eng\":[\"11\",12,13,14],\"maths\":[14,13,12,11],\"weekday\":[\"Mon\",\"tue\",\"Wed\",\"Thurs\"]})\n",
    "try:\n",
    "    print(var.info())\n",
    "    var['eng']=var['eng'].astype('int64')\n",
    "    print(var.sort_values(by=['eng']))\n",
    "    print(var.sort_values(by=['maths']))\n",
    "except Exception as e:\n",
    "    print(\"Error ocurred\",e)\n",
    "    logging.error(\"Some error ocurred, please check code\")\n",
    "    logging.error(e)"
   ]
  },
  {
   "cell_type": "markdown",
   "id": "4307c41a",
   "metadata": {},
   "source": [
    "Q14. How do you sort a Pandas DataFrame by a specific column?"
   ]
  },
  {
   "cell_type": "code",
   "execution_count": 11,
   "id": "c7c674c7",
   "metadata": {},
   "outputs": [
    {
     "name": "stdout",
     "output_type": "stream",
     "text": [
      "<class 'pandas.core.frame.DataFrame'>\n",
      "RangeIndex: 4 entries, 0 to 3\n",
      "Data columns (total 4 columns):\n",
      " #   Column   Non-Null Count  Dtype \n",
      "---  ------   --------------  ----- \n",
      " 0   days     4 non-null      int64 \n",
      " 1   eng      4 non-null      object\n",
      " 2   maths    4 non-null      int64 \n",
      " 3   weekday  4 non-null      object\n",
      "dtypes: int64(2), object(2)\n",
      "memory usage: 256.0+ bytes\n",
      "None\n",
      "   days  eng  maths weekday\n",
      "0     1   11     14     Mon\n",
      "1     2   12     13     tue\n",
      "2     3   13     12     Wed\n",
      "3     4   14     11   Thurs\n",
      "   days  eng  maths weekday\n",
      "3     4   14     11   Thurs\n",
      "2     3   13     12     Wed\n",
      "1     2   12     13     tue\n",
      "0     1   11     14     Mon\n"
     ]
    }
   ],
   "source": [
    "  import logging\n",
    "import pandas as pd\n",
    "logging.basicConfig(filename=\"testpandas.log\",level=logging.DEBUG,format='%(asctime)s %(levelname)s %(message)s')\n",
    "var=pd.DataFrame({\"days\":[1,2,3,4],\"eng\":[\"11\",12,13,14],\"maths\":[14,13,12,11],\"weekday\":[\"Mon\",\"tue\",\"Wed\",\"Thurs\"]})\n",
    "try:\n",
    "    print(var.info())\n",
    "    var['eng']=var['eng'].astype('int64')\n",
    "    print(var.sort_values(by=['eng']))\n",
    "    print(var.sort_values(by=['maths']))\n",
    "except Exception as e:\n",
    "    print(\"Error ocurred\",e)\n",
    "    logging.error(\"Some error ocurred, please check code\")\n",
    "    logging.error(e)"
   ]
  },
  {
   "cell_type": "markdown",
   "id": "58b93f37",
   "metadata": {},
   "source": [
    "Q15. How do you create a copy of a Pandas DataFrame?"
   ]
  },
  {
   "cell_type": "code",
   "execution_count": 13,
   "id": "6d3a8170",
   "metadata": {},
   "outputs": [
    {
     "name": "stdout",
     "output_type": "stream",
     "text": [
      "   Index  Organization Id                     Name  \\\n",
      "0      1  FAB0d41d5b5d22c              Ferrell LLC   \n",
      "1      2  6A7EdDEA9FaDC52  Mckinney, Riley and Day   \n",
      "2      3  0bFED1ADAE4bcC1               Hester Ltd   \n",
      "3      4  2bFC1Be8a4ce42f           Holder-Sellers   \n",
      "4      5  9eE8A6a4Eb96C24              Mayer Group   \n",
      "\n",
      "                          Website           Country  \\\n",
      "0              https://price.net/  Papua New Guinea   \n",
      "1  http://www.hall-buchanan.info/           Finland   \n",
      "2       http://sullivan-reed.com/             China   \n",
      "3             https://becker.com/      Turkmenistan   \n",
      "4          http://www.brewer.com/         Mauritius   \n",
      "\n",
      "                                      Description  Founded  \\\n",
      "0             Horizontal empowering knowledgebase     1990   \n",
      "1             User-centric system-worthy leverage     2015   \n",
      "2                  Switchable scalable moratorium     1971   \n",
      "3  De-engineered systemic artificial intelligence     2004   \n",
      "4              Synchronized needs-based challenge     1991   \n",
      "\n",
      "                      Industry  Number of employees  \n",
      "0                     Plastics                 3498  \n",
      "1  Glass / Ceramics / Concrete                 4952  \n",
      "2                Public Safety                 5287  \n",
      "3                   Automotive                  921  \n",
      "4               Transportation                 7870  \n"
     ]
    }
   ],
   "source": [
    "import logging\n",
    "import pandas as pd\n",
    "logging.basicConfig(filename=\"testpandas.log\",level=logging.DEBUG,format='%(asctime)s %(levelname)s %(message)s')\n",
    "df=pd.read_csv(\"organizations-100.csv\")\n",
    "try:\n",
    "    copy_df=df.copy()\n",
    "    print(copy_df.head())\n",
    "    \n",
    "    logging.info(\"Operation successful\")\n",
    "except Exception as e:\n",
    "    print(\"Error ocurred\",e)\n",
    "    logging.error(\"Some error ocurred, please check code\")\n",
    "    logging.error(e)"
   ]
  },
  {
   "cell_type": "markdown",
   "id": "ab9d4d8c",
   "metadata": {},
   "source": [
    "Q16. How do you filter rows of a Pandas DataFrame by multiple conditions?"
   ]
  },
  {
   "cell_type": "code",
   "execution_count": 17,
   "id": "29cff42d",
   "metadata": {},
   "outputs": [
    {
     "name": "stdout",
     "output_type": "stream",
     "text": [
      "   Index  Organization Id        Name                    Website Country  \\\n",
      "2      3  0bFED1ADAE4bcC1  Hester Ltd  http://sullivan-reed.com/   China   \n",
      "\n",
      "                      Description  Founded       Industry  Number of employees  \n",
      "2  Switchable scalable moratorium     1971  Public Safety                 5287  \n",
      "2    http://sullivan-reed.com/\n",
      "Name: Website, dtype: object\n"
     ]
    }
   ],
   "source": [
    "import logging\n",
    "import pandas as pd\n",
    "logging.basicConfig(filename=\"testpandas.log\",level=logging.DEBUG,format='%(asctime)s %(levelname)s %(message)s')\n",
    "df=pd.read_csv(\"organizations-100.csv\")\n",
    "try:\n",
    "    filt=(df['Country']==\"China\")\n",
    "    print(df[filt])\n",
    "    print(df.loc[filt,'Website'])\n",
    "    logging.info(\"Operation successful\")\n",
    "except Exception as e:\n",
    "    print(\"Error ocurred\",e)\n",
    "    logging.error(\"Some error ocurred, please check code\")\n",
    "    logging.error(e)"
   ]
  },
  {
   "cell_type": "markdown",
   "id": "1f4b00fa",
   "metadata": {},
   "source": [
    "Q17. How do you calculate the mean of a column in a Pandas DataFrame?"
   ]
  },
  {
   "cell_type": "code",
   "execution_count": 18,
   "id": "61523b0b",
   "metadata": {},
   "outputs": [
    {
     "name": "stdout",
     "output_type": "stream",
     "text": [
      "4964.86\n"
     ]
    }
   ],
   "source": [
    "import logging\n",
    "import pandas as pd\n",
    "logging.basicConfig(filename=\"testpandas.log\",level=logging.DEBUG,format='%(asctime)s %(levelname)s %(message)s')\n",
    "df=pd.read_csv(\"organizations-100.csv\")\n",
    "try:\n",
    "    avg=df.loc[:, 'Number of employees'].mean()\n",
    "    print(avg)\n",
    "except Exception as e:\n",
    "    print(\"Error ocurred\",e)\n",
    "    logging.error(\"Some error ocurred, please check code\")\n",
    "    logging.error(e)"
   ]
  },
  {
   "cell_type": "markdown",
   "id": "d83a039e",
   "metadata": {},
   "source": [
    "Q18. How do you calculate the standard deviation of a column in a Pandas DataFrame?"
   ]
  },
  {
   "cell_type": "code",
   "execution_count": 19,
   "id": "576a0f10",
   "metadata": {},
   "outputs": [
    {
     "name": "stdout",
     "output_type": "stream",
     "text": [
      "2850.8597994927136\n"
     ]
    }
   ],
   "source": [
    "import logging\n",
    "import pandas as pd\n",
    "logging.basicConfig(filename=\"testpandas.log\",level=logging.DEBUG,format='%(asctime)s %(levelname)s %(message)s')\n",
    "df=pd.read_csv(\"organizations-100.csv\")\n",
    "try:\n",
    "    avg=df.loc[:, 'Number of employees'].std()\n",
    "    print(avg)\n",
    "except Exception as e:\n",
    "    print(\"Error ocurred\",e)\n",
    "    logging.error(\"Some error ocurred, please check code\")\n",
    "    logging.error(e)"
   ]
  },
  {
   "cell_type": "markdown",
   "id": "790b00a3",
   "metadata": {},
   "source": [
    "Q19. How do you calculate the correlation between two columns in a Pandas DataFrame?"
   ]
  },
  {
   "cell_type": "markdown",
   "id": "8350dd1e",
   "metadata": {},
   "source": [
    "Q20. How do you select specific columns in a DataFrame using their labels?"
   ]
  },
  {
   "cell_type": "code",
   "execution_count": 24,
   "id": "7b637c71",
   "metadata": {},
   "outputs": [
    {
     "name": "stdout",
     "output_type": "stream",
     "text": [
      "    Number of employees                         Website\n",
      "0                  3498              https://price.net/\n",
      "1                  4952  http://www.hall-buchanan.info/\n",
      "2                  5287       http://sullivan-reed.com/\n",
      "3                   921             https://becker.com/\n",
      "4                  7870          http://www.brewer.com/\n",
      "..                  ...                             ...\n",
      "95                 2988           https://mcdowell.org/\n",
      "96                 4292               http://duffy.com/\n",
      "97                  236         http://www.flowers.net/\n",
      "98                  339          https://www.burke.net/\n",
      "99                 2785         http://www.herring.com/\n",
      "\n",
      "[100 rows x 2 columns]\n"
     ]
    }
   ],
   "source": [
    "import logging\n",
    "import pandas as pd\n",
    "logging.basicConfig(filename=\"testpandas.log\",level=logging.DEBUG,format='%(asctime)s %(levelname)s %(message)s')\n",
    "df=pd.read_csv(\"organizations-100.csv\")\n",
    "try:\n",
    "    sel=df[['Number of employees','Website']]\n",
    "    print(sel)\n",
    "except Exception as e:\n",
    "    print(\"Error ocurred\",e)\n",
    "    logging.error(\"Some error ocurred, please check code\")\n",
    "    logging.error(e)"
   ]
  },
  {
   "cell_type": "markdown",
   "id": "2e314ea0",
   "metadata": {},
   "source": [
    "Q21. How do you select specific rows in a DataFrame using their indexes?"
   ]
  },
  {
   "cell_type": "markdown",
   "id": "bd9b1e78",
   "metadata": {},
   "source": [
    "We can do that using iloc"
   ]
  },
  {
   "cell_type": "code",
   "execution_count": 2,
   "id": "09570b04",
   "metadata": {},
   "outputs": [
    {
     "name": "stdout",
     "output_type": "stream",
     "text": [
      "                      Name  Country\n",
      "1  Mckinney, Riley and Day  Finland\n",
      "2               Hester Ltd    China\n"
     ]
    }
   ],
   "source": [
    "import logging\n",
    "import pandas as pd\n",
    "logging.basicConfig(filename=\"testpandas.log\",level=logging.DEBUG,format='%(asctime)s %(levelname)s %(message)s')\n",
    "df=pd.read_csv(\"organizations-100.csv\")\n",
    "try:\n",
    "    sel=df.iloc[[1,2],[2,4]]\n",
    "    print(sel)\n",
    "except Exception as e:\n",
    "    print(\"Error ocurred\",e)\n",
    "    logging.error(\"Some error ocurred, please check code\")\n",
    "    logging.error(e)"
   ]
  },
  {
   "cell_type": "markdown",
   "id": "efc93e39",
   "metadata": {},
   "source": [
    "Q22. How do you sort a DataFrame by a specific column?"
   ]
  },
  {
   "cell_type": "code",
   "execution_count": 8,
   "id": "01b51df7",
   "metadata": {},
   "outputs": [
    {
     "name": "stdout",
     "output_type": "stream",
     "text": [
      "    Index  Organization Id                        Name  \\\n",
      "97     98  E7df80C60Abd7f9           Clements-Espinoza   \n",
      "98     99  AFc285dbE2fEd24                  Mendez Inc   \n",
      "60     61  bD1bc6bB6d1FeD3                Freeman-Chen   \n",
      "30     31  ccBcC32adcbc530   Sloan, Mays and Whitehead   \n",
      "69     70  902D7Ac8b6d476b                  Newton Inc   \n",
      "..    ...              ...                         ...   \n",
      "61     62  EB9f456e8b7022a                  Soto Group   \n",
      "63     64  055ffEfB2Dd95B0                   Riley Ltd   \n",
      "47     48  49aECbDaE6aBD53  Wallace, Madden and Morris   \n",
      "9      10  738b5aDe6B1C6A5                  Gaines Inc   \n",
      "37     38  19E3a5Bf6dBDc4F                 Cuevas-Moss   \n",
      "\n",
      "                               Website                      Country  \\\n",
      "97             http://www.flowers.net/  Falkland Islands (Malvinas)   \n",
      "98              https://www.burke.net/              Kyrgyz Republic   \n",
      "60                 https://mathis.com/                  Timor-Leste   \n",
      "30                  http://lawson.com/                         Chad   \n",
      "69  https://www.richmond-manning.info/         Netherlands Antilles   \n",
      "..                                 ...                          ...   \n",
      "61                https://norris.info/                      Vietnam   \n",
      "63                   http://wiley.com/                       Brazil   \n",
      "47   http://www.blevins-fernandez.biz/                      Germany   \n",
      "9          http://sandoval-hooper.com/                   Uzbekistan   \n",
      "37       https://dodson-castaneda.net/                    Guatemala   \n",
      "\n",
      "                               Description  Founded  \\\n",
      "97                 Progressive modular hub     1991   \n",
      "98         User-friendly exuding migration     1993   \n",
      "60          Phased next generation adapter     1973   \n",
      "30  Face-to-face high-level conglomeration     1997   \n",
      "69       Fundamental stable info-mediaries     1976   \n",
      "..                                     ...      ...   \n",
      "61  Enterprise-wide executive installation     1988   \n",
      "63         Optional exuding superstructure     1986   \n",
      "47   Persistent real-time customer loyalty     2016   \n",
      "9          Multi-lateral scalable protocol     1997   \n",
      "37        Extended human-resource intranet     1994   \n",
      "\n",
      "                             Industry  Number of employees  \n",
      "97                    Broadcast Media                  236  \n",
      "98               Education Management                  339  \n",
      "60  International Trade / Development                  346  \n",
      "30                  Civil Engineering                  365  \n",
      "69                  Military Industry                  563  \n",
      "..                                ...                  ...  \n",
      "61      Business Supplies / Equipment                 9097  \n",
      "63                           Textiles                 9315  \n",
      "47                    Pharmaceuticals                 9443  \n",
      "9            Outsourcing / Offshoring                 9698  \n",
      "37                              Music                 9995  \n",
      "\n",
      "[100 rows x 9 columns]\n"
     ]
    }
   ],
   "source": [
    "import logging\n",
    "import pandas as pd\n",
    "logging.basicConfig(filename=\"testpandas.log\",level=logging.DEBUG,format='%(asctime)s %(levelname)s %(message)s')\n",
    "df=pd.read_csv(\"organizations-100.csv\")\n",
    "try:\n",
    "    sel=df.sort_values('Number of employees')\n",
    "    print(sel)\n",
    "except Exception as e:\n",
    "    print(\"Error ocurred\",e)\n",
    "    logging.error(\"Some error ocurred, please check code\")\n",
    "    logging.error(e)"
   ]
  },
  {
   "cell_type": "markdown",
   "id": "e28457f1",
   "metadata": {},
   "source": [
    "Q23. How do you create a new column in a DataFrame based on the values of another column?"
   ]
  },
  {
   "cell_type": "code",
   "execution_count": 20,
   "id": "aeb9b483",
   "metadata": {},
   "outputs": [
    {
     "name": "stdout",
     "output_type": "stream",
     "text": [
      "   PassengerId  Survived  Pclass      Lname  \\\n",
      "0            1         0       3     Braund   \n",
      "1            2         1       1    Cumings   \n",
      "2            3         1       3  Heikkinen   \n",
      "3            4         1       1   Futrelle   \n",
      "4            5         0       3      Allen   \n",
      "\n",
      "                                          Name     Sex   Age  SibSp  Parch  \\\n",
      "0                              Mr. Owen Harris    male  22.0      1      0   \n",
      "1   Mrs. John Bradley (Florence Briggs Thayer)  female  38.0      1      0   \n",
      "2                                  Miss. Laina  female  26.0      0      0   \n",
      "3           Mrs. Jacques Heath (Lily May Peel)  female  35.0      1      0   \n",
      "4                            Mr. William Henry    male  35.0      0      0   \n",
      "\n",
      "             Ticket     Fare Cabin Embarked  New  \n",
      "0         A/5 21171   7.2500   NaN        S    1  \n",
      "1          PC 17599  71.2833   C85        C    1  \n",
      "2  STON/O2. 3101282   7.9250   NaN        S    0  \n",
      "3            113803  53.1000  C123        S    1  \n",
      "4            373450   8.0500   NaN        S    0  \n"
     ]
    }
   ],
   "source": [
    "import logging\n",
    "import pandas as pd\n",
    "logging.basicConfig(filename=\"testpandas.log\",level=logging.DEBUG,format='%(asctime)s %(levelname)s %(message)s')\n",
    "df=pd.read_csv(\"https://gist.githubusercontent.com/jwalsh/ce1dc0436aba5b7a5c9666f47fa5a380/raw/5ce3854392b43ff97907112d344fc008229b0445/titanic.csv\")\n",
    "try:\n",
    "    df['New']=df['SibSp']+df['Parch']\n",
    "    print(df.head(5))\n",
    "except Exception as e:\n",
    "    print(\"Error ocurred\",e)\n",
    "    logging.error(\"Some error ocurred, please check code\")\n",
    "    logging.error(e)"
   ]
  },
  {
   "cell_type": "markdown",
   "id": "0dae316e",
   "metadata": {},
   "source": [
    "Q24. How do you remove duplicates from a DataFrame?"
   ]
  },
  {
   "cell_type": "code",
   "execution_count": 23,
   "id": "86636c1c",
   "metadata": {},
   "outputs": [
    {
     "name": "stdout",
     "output_type": "stream",
     "text": [
      "               Ticket     Fare\n",
      "0           A/5 21171   7.2500\n",
      "1            PC 17599  71.2833\n",
      "2    STON/O2. 3101282   7.9250\n",
      "3              113803  53.1000\n",
      "4              373450   8.0500\n",
      "..                ...      ...\n",
      "151            113776  66.6000\n",
      "152        A.5. 11206   8.0500\n",
      "153          A/5. 851  14.5000\n",
      "154         Fa 265302   7.3125\n",
      "155          PC 17597  61.3792\n",
      "\n",
      "[156 rows x 2 columns]\n"
     ]
    }
   ],
   "source": [
    "import logging\n",
    "import pandas as pd\n",
    "logging.basicConfig(filename=\"testpandas.log\",level=logging.DEBUG,format='%(asctime)s %(levelname)s %(message)s')\n",
    "df=pd.read_csv(\"https://gist.githubusercontent.com/jwalsh/ce1dc0436aba5b7a5c9666f47fa5a380/raw/5ce3854392b43ff97907112d344fc008229b0445/titanic.csv\")\n",
    "try:\n",
    "    df.drop_duplicates(subset=['Ticket','Fare'])\n",
    "    print(df[['Ticket','Fare']])\n",
    "except Exception as e:\n",
    "    print(\"Error ocurred\",e)\n",
    "    logging.error(\"Some error ocurred, please check code\")\n",
    "    logging.error(e)"
   ]
  },
  {
   "cell_type": "markdown",
   "id": "312a1ecb",
   "metadata": {},
   "source": [
    "Q25. What is the difference between .loc and .iloc in Pandas?"
   ]
  },
  {
   "cell_type": "code",
   "execution_count": 25,
   "id": "3b28c220",
   "metadata": {},
   "outputs": [
    {
     "name": "stdout",
     "output_type": "stream",
     "text": [
      "                                           Name     Sex   Age Cabin\n",
      "0                               Mr. Owen Harris    male  22.0   NaN\n",
      "1    Mrs. John Bradley (Florence Briggs Thayer)  female  38.0   C85\n",
      "2                                   Miss. Laina  female  26.0   NaN\n",
      "3            Mrs. Jacques Heath (Lily May Peel)  female  35.0  C123\n",
      "4                             Mr. William Henry    male  35.0   NaN\n",
      "5                                     Mr. James    male   NaN   NaN\n",
      "6                                 Mr. Timothy J    male  54.0   E46\n",
      "7                         Master. Gosta Leonard    male   2.0   NaN\n",
      "8      Mrs. Oscar W (Elisabeth Vilhelmina Berg)  female  27.0   NaN\n",
      "9                   Mrs. Nicholas (Adele Achem)  female  14.0   NaN\n",
      "10                         Miss. Marguerite Rut  female   4.0    G6\n",
      "11                              Miss. Elizabeth  female  58.0  C103\n",
      "12                            Mr. William Henry    male  20.0   NaN\n",
      "13                             Mr. Anders Johan    male  39.0   NaN\n",
      "14                  Miss. Hulda Amanda Adolfina  female  14.0   NaN\n"
     ]
    }
   ],
   "source": [
    "import logging\n",
    "import pandas as pd\n",
    "logging.basicConfig(filename=\"testpandas.log\",level=logging.DEBUG,format='%(asctime)s %(levelname)s %(message)s')\n",
    "df=pd.read_csv(\"https://gist.githubusercontent.com/jwalsh/ce1dc0436aba5b7a5c9666f47fa5a380/raw/5ce3854392b43ff97907112d344fc008229b0445/titanic.csv\")\n",
    "try:\n",
    "    df2=df.head(15)[['Name','Sex','Age','Cabin']]\n",
    "    df2.loc[[0,1],['Name','Age']] #loc means location where we can give name of columns and 0,1 is the rows we want\n",
    "    df2.iloc[[2,4],[1,2]] #iloc is integer location where we give indexes of rows and columns we want repsectively,iloc is taking the inbuilt index which means that the indexing starts from 0 irrespective of what we are seeing in the output of the data frame\n",
    "    print(df2)\n",
    "except Exception as e:\n",
    "    print(\"Error ocurred\",e)\n",
    "    logging.error(\"Some error ocurred, please check code\")\n",
    "    logging.error(e)"
   ]
  },
  {
   "cell_type": "code",
   "execution_count": null,
   "id": "6ad892ea",
   "metadata": {},
   "outputs": [],
   "source": []
  }
 ],
 "metadata": {
  "kernelspec": {
   "display_name": "Python 3 (ipykernel)",
   "language": "python",
   "name": "python3"
  },
  "language_info": {
   "codemirror_mode": {
    "name": "ipython",
    "version": 3
   },
   "file_extension": ".py",
   "mimetype": "text/x-python",
   "name": "python",
   "nbconvert_exporter": "python",
   "pygments_lexer": "ipython3",
   "version": "3.9.13"
  }
 },
 "nbformat": 4,
 "nbformat_minor": 5
}
